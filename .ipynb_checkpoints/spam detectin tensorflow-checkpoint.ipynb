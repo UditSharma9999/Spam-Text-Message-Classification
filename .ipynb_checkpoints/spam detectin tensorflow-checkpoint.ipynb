{
 "cells": [
  {
   "cell_type": "markdown",
   "id": "fe62a1be",
   "metadata": {},
   "source": [
    "# Spam Classification with TensorFlow\n",
    "\n",
    "---"
   ]
  },
  {
   "cell_type": "markdown",
   "id": "bc053bc7",
   "metadata": {},
   "source": [
    "## 1. Import TensorFlow and Dataset"
   ]
  },
  {
   "cell_type": "code",
   "execution_count": 1,
   "id": "6571bc55",
   "metadata": {},
   "outputs": [
    {
     "name": "stderr",
     "output_type": "stream",
     "text": [
      "2022-05-30 19:41:07.502509: W tensorflow/stream_executor/platform/default/dso_loader.cc:64] Could not load dynamic library 'libcudart.so.11.0'; dlerror: libcudart.so.11.0: cannot open shared object file: No such file or directory\n",
      "2022-05-30 19:41:07.502623: I tensorflow/stream_executor/cuda/cudart_stub.cc:29] Ignore above cudart dlerror if you do not have a GPU set up on your machine.\n"
     ]
    }
   ],
   "source": [
    "import tensorflow as tf\n",
    "from tensorflow.keras.preprocessing.text import Tokenizer\n",
    "from tensorflow.keras.preprocessing.sequence import pad_sequences\n",
    "import matplotlib.pyplot as plt\n",
    "import numpy as np\n",
    "import pandas as pd"
   ]
  },
  {
   "cell_type": "code",
   "execution_count": 2,
   "id": "a9d4fd52",
   "metadata": {},
   "outputs": [
    {
     "data": {
      "text/html": [
       "<div>\n",
       "<style scoped>\n",
       "    .dataframe tbody tr th:only-of-type {\n",
       "        vertical-align: middle;\n",
       "    }\n",
       "\n",
       "    .dataframe tbody tr th {\n",
       "        vertical-align: top;\n",
       "    }\n",
       "\n",
       "    .dataframe thead th {\n",
       "        text-align: right;\n",
       "    }\n",
       "</style>\n",
       "<table border=\"1\" class=\"dataframe\">\n",
       "  <thead>\n",
       "    <tr style=\"text-align: right;\">\n",
       "      <th></th>\n",
       "      <th>Category</th>\n",
       "      <th>Message</th>\n",
       "    </tr>\n",
       "  </thead>\n",
       "  <tbody>\n",
       "    <tr>\n",
       "      <th>0</th>\n",
       "      <td>0</td>\n",
       "      <td>Go until jurong point, crazy.. Available only ...</td>\n",
       "    </tr>\n",
       "    <tr>\n",
       "      <th>1</th>\n",
       "      <td>0</td>\n",
       "      <td>Ok lar... Joking wif u oni...</td>\n",
       "    </tr>\n",
       "    <tr>\n",
       "      <th>2</th>\n",
       "      <td>1</td>\n",
       "      <td>Free entry in 2 a wkly comp to win FA Cup fina...</td>\n",
       "    </tr>\n",
       "    <tr>\n",
       "      <th>3</th>\n",
       "      <td>0</td>\n",
       "      <td>U dun say so early hor... U c already then say...</td>\n",
       "    </tr>\n",
       "    <tr>\n",
       "      <th>4</th>\n",
       "      <td>0</td>\n",
       "      <td>Nah I don't think he goes to usf, he lives aro...</td>\n",
       "    </tr>\n",
       "    <tr>\n",
       "      <th>...</th>\n",
       "      <td>...</td>\n",
       "      <td>...</td>\n",
       "    </tr>\n",
       "    <tr>\n",
       "      <th>5567</th>\n",
       "      <td>1</td>\n",
       "      <td>This is the 2nd time we have tried 2 contact u...</td>\n",
       "    </tr>\n",
       "    <tr>\n",
       "      <th>5568</th>\n",
       "      <td>0</td>\n",
       "      <td>Will ü b going to esplanade fr home?</td>\n",
       "    </tr>\n",
       "    <tr>\n",
       "      <th>5569</th>\n",
       "      <td>0</td>\n",
       "      <td>Pity, * was in mood for that. So...any other s...</td>\n",
       "    </tr>\n",
       "    <tr>\n",
       "      <th>5570</th>\n",
       "      <td>0</td>\n",
       "      <td>The guy did some bitching but I acted like i'd...</td>\n",
       "    </tr>\n",
       "    <tr>\n",
       "      <th>5571</th>\n",
       "      <td>0</td>\n",
       "      <td>Rofl. Its true to its name</td>\n",
       "    </tr>\n",
       "  </tbody>\n",
       "</table>\n",
       "<p>5572 rows × 2 columns</p>\n",
       "</div>"
      ],
      "text/plain": [
       "      Category                                            Message\n",
       "0            0  Go until jurong point, crazy.. Available only ...\n",
       "1            0                      Ok lar... Joking wif u oni...\n",
       "2            1  Free entry in 2 a wkly comp to win FA Cup fina...\n",
       "3            0  U dun say so early hor... U c already then say...\n",
       "4            0  Nah I don't think he goes to usf, he lives aro...\n",
       "...        ...                                                ...\n",
       "5567         1  This is the 2nd time we have tried 2 contact u...\n",
       "5568         0               Will ü b going to esplanade fr home?\n",
       "5569         0  Pity, * was in mood for that. So...any other s...\n",
       "5570         0  The guy did some bitching but I acted like i'd...\n",
       "5571         0                         Rofl. Its true to its name\n",
       "\n",
       "[5572 rows x 2 columns]"
      ]
     },
     "execution_count": 2,
     "metadata": {},
     "output_type": "execute_result"
    }
   ],
   "source": [
    "dataset = pd.read_csv('./data/spam.csv')\n",
    "dataset"
   ]
  },
  {
   "cell_type": "code",
   "execution_count": 3,
   "id": "593b3aac",
   "metadata": {},
   "outputs": [],
   "source": [
    "# ham = 0, spam = 1\n",
    "\n",
    "sentences = dataset['Message'].tolist()\n",
    "labels = dataset['Category'].tolist()\n",
    "\n",
    "# Separate out the sentences and labels into training and test sets\n",
    "training_size = int(len(sentences) * 0.8)\n",
    "\n",
    "training_sentences = sentences[0:training_size]\n",
    "testing_sentences = sentences[training_size:]\n",
    "training_labels = labels[0:training_size]\n",
    "testing_labels = labels[training_size:]\n",
    "\n",
    "# Make labels into numpy arrays for use with the network later\n",
    "training_labels_final = np.array(training_labels)\n",
    "testing_labels_final = np.array(testing_labels)"
   ]
  },
  {
   "cell_type": "markdown",
   "id": "065816ca",
   "metadata": {},
   "source": [
    "## 2. Tokenize the dataset\n",
    "\n",
    "Tokenize the dataset, including padding and OOV"
   ]
  },
  {
   "cell_type": "code",
   "execution_count": 4,
   "id": "e5274a87",
   "metadata": {},
   "outputs": [],
   "source": [
    "vocab_size = 600\n",
    "embedding_dim = 16\n",
    "max_length = 60\n",
    "trunc_type='post'\n",
    "padding_type='post'\n",
    "oov_tok = \"<OOV>\"\n",
    "\n",
    "from tensorflow.keras.preprocessing.text import Tokenizer\n",
    "from tensorflow.keras.preprocessing.sequence import pad_sequences\n",
    "\n",
    "tokenizer = Tokenizer(num_words = vocab_size, oov_token=oov_tok)\n",
    "tokenizer.fit_on_texts(training_sentences)\n",
    "word_index = tokenizer.word_index\n",
    "sequences = tokenizer.texts_to_sequences(training_sentences)\n",
    "padded = pad_sequences(sequences,maxlen=max_length, padding=padding_type, \n",
    "                       truncating=trunc_type)\n",
    "\n",
    "testing_sequences = tokenizer.texts_to_sequences(testing_sentences)\n",
    "testing_padded = pad_sequences(testing_sequences,maxlen=max_length, \n",
    "                               padding=padding_type, truncating=trunc_type)"
   ]
  },
  {
   "cell_type": "markdown",
   "id": "356722f5",
   "metadata": {},
   "source": [
    "## 3. Review a Sequence\n",
    "\n",
    "Let's quickly take a look at one of the padded sequences to ensure everything above worked appropriately."
   ]
  },
  {
   "cell_type": "code",
   "execution_count": 5,
   "id": "065833cb",
   "metadata": {},
   "outputs": [
    {
     "name": "stdout",
     "output_type": "stream",
     "text": [
      "ok lar <OOV> wif u <OOV> ? ? ? ? ? ? ? ? ? ? ? ? ? ? ? ? ? ? ? ? ? ? ? ? ? ? ? ? ? ? ? ? ? ? ? ? ? ? ? ? ? ? ? ? ? ? ? ? ? ? ? ? ? ?\n",
      "Ok lar... Joking wif u oni...\n"
     ]
    }
   ],
   "source": [
    "reverse_word_index = dict([(value, key) for (key, value) in word_index.items()])\n",
    "\n",
    "def decode_review(text):\n",
    "    return ' '.join([reverse_word_index.get(i, '?') for i in text])\n",
    "\n",
    "print(decode_review(padded[1]))\n",
    "print(training_sentences[1])"
   ]
  },
  {
   "cell_type": "markdown",
   "id": "06936102",
   "metadata": {},
   "source": [
    "## 4. Train a Text Classification Model with Embeddings"
   ]
  },
  {
   "cell_type": "code",
   "execution_count": 6,
   "id": "0b39cea1",
   "metadata": {},
   "outputs": [
    {
     "name": "stdout",
     "output_type": "stream",
     "text": [
      "Model: \"sequential\"\n",
      "_________________________________________________________________\n",
      " Layer (type)                Output Shape              Param #   \n",
      "=================================================================\n",
      " embedding (Embedding)       (None, 60, 16)            9600      \n",
      "                                                                 \n",
      " global_average_pooling1d (G  (None, 16)               0         \n",
      " lobalAveragePooling1D)                                          \n",
      "                                                                 \n",
      " dense (Dense)               (None, 6)                 102       \n",
      "                                                                 \n",
      " dense_1 (Dense)             (None, 1)                 7         \n",
      "                                                                 \n",
      "=================================================================\n",
      "Total params: 9,709\n",
      "Trainable params: 9,709\n",
      "Non-trainable params: 0\n",
      "_________________________________________________________________\n"
     ]
    },
    {
     "name": "stderr",
     "output_type": "stream",
     "text": [
      "2022-05-30 19:41:27.124049: W tensorflow/stream_executor/platform/default/dso_loader.cc:64] Could not load dynamic library 'libcuda.so.1'; dlerror: libcuda.so.1: cannot open shared object file: No such file or directory\n",
      "2022-05-30 19:41:27.124151: W tensorflow/stream_executor/cuda/cuda_driver.cc:269] failed call to cuInit: UNKNOWN ERROR (303)\n",
      "2022-05-30 19:41:27.124259: I tensorflow/stream_executor/cuda/cuda_diagnostics.cc:156] kernel driver does not appear to be running on this host (udit-HP-245-G6-Notebook-PC): /proc/driver/nvidia/version does not exist\n",
      "2022-05-30 19:41:27.125097: I tensorflow/core/platform/cpu_feature_guard.cc:151] This TensorFlow binary is optimized with oneAPI Deep Neural Network Library (oneDNN) to use the following CPU instructions in performance-critical operations:  AVX2 FMA\n",
      "To enable them in other operations, rebuild TensorFlow with the appropriate compiler flags.\n"
     ]
    }
   ],
   "source": [
    "# Note the embedding layer is first, \n",
    "# and the output is only 1 node as it is either 0 or 1 (negative or positive)\n",
    "model = tf.keras.Sequential([\n",
    "    tf.keras.layers.Embedding(vocab_size, embedding_dim, input_length=max_length),\n",
    "    tf.keras.layers.GlobalAveragePooling1D(),\n",
    "    tf.keras.layers.Dense(6, activation='relu'),\n",
    "    tf.keras.layers.Dense(1, activation='sigmoid')\n",
    "])\n",
    "model.compile(loss='binary_crossentropy',optimizer='adam',metrics=['accuracy'])\n",
    "model.summary()"
   ]
  },
  {
   "cell_type": "code",
   "execution_count": 7,
   "id": "2a152aad",
   "metadata": {},
   "outputs": [
    {
     "name": "stdout",
     "output_type": "stream",
     "text": [
      "Epoch 1/30\n",
      "140/140 [==============================] - 5s 18ms/step - loss: 0.5350 - accuracy: 0.8582 - val_loss: 0.3838 - val_accuracy: 0.8700\n",
      "Epoch 2/30\n",
      "140/140 [==============================] - 2s 12ms/step - loss: 0.3419 - accuracy: 0.8649 - val_loss: 0.3005 - val_accuracy: 0.8700\n",
      "Epoch 3/30\n",
      "140/140 [==============================] - 1s 10ms/step - loss: 0.2772 - accuracy: 0.8658 - val_loss: 0.2266 - val_accuracy: 0.8771\n",
      "Epoch 4/30\n",
      "140/140 [==============================] - 2s 12ms/step - loss: 0.1958 - accuracy: 0.9181 - val_loss: 0.1511 - val_accuracy: 0.9623\n",
      "Epoch 5/30\n",
      "140/140 [==============================] - 1s 10ms/step - loss: 0.1383 - accuracy: 0.9574 - val_loss: 0.1106 - val_accuracy: 0.9695\n",
      "Epoch 6/30\n",
      "140/140 [==============================] - 2s 11ms/step - loss: 0.1057 - accuracy: 0.9681 - val_loss: 0.0876 - val_accuracy: 0.9722\n",
      "Epoch 7/30\n",
      "140/140 [==============================] - 1s 10ms/step - loss: 0.0861 - accuracy: 0.9742 - val_loss: 0.0739 - val_accuracy: 0.9767\n",
      "Epoch 8/30\n",
      "140/140 [==============================] - 2s 11ms/step - loss: 0.0732 - accuracy: 0.9787 - val_loss: 0.0659 - val_accuracy: 0.9794\n",
      "Epoch 9/30\n",
      "140/140 [==============================] - 2s 11ms/step - loss: 0.0649 - accuracy: 0.9809 - val_loss: 0.0615 - val_accuracy: 0.9785\n",
      "Epoch 10/30\n",
      "140/140 [==============================] - 1s 10ms/step - loss: 0.0584 - accuracy: 0.9832 - val_loss: 0.0591 - val_accuracy: 0.9812\n",
      "Epoch 11/30\n",
      "140/140 [==============================] - 1s 8ms/step - loss: 0.0534 - accuracy: 0.9850 - val_loss: 0.0545 - val_accuracy: 0.9821\n",
      "Epoch 12/30\n",
      "140/140 [==============================] - 1s 9ms/step - loss: 0.0496 - accuracy: 0.9863 - val_loss: 0.0527 - val_accuracy: 0.9830\n",
      "Epoch 13/30\n",
      "140/140 [==============================] - 1s 9ms/step - loss: 0.0466 - accuracy: 0.9865 - val_loss: 0.0508 - val_accuracy: 0.9821\n",
      "Epoch 14/30\n",
      "140/140 [==============================] - 1s 11ms/step - loss: 0.0436 - accuracy: 0.9872 - val_loss: 0.0490 - val_accuracy: 0.9812\n",
      "Epoch 15/30\n",
      "140/140 [==============================] - 1s 10ms/step - loss: 0.0409 - accuracy: 0.9888 - val_loss: 0.0502 - val_accuracy: 0.9821\n",
      "Epoch 16/30\n",
      "140/140 [==============================] - 2s 11ms/step - loss: 0.0383 - accuracy: 0.9899 - val_loss: 0.0534 - val_accuracy: 0.9830\n",
      "Epoch 17/30\n",
      "140/140 [==============================] - 2s 12ms/step - loss: 0.0375 - accuracy: 0.9899 - val_loss: 0.0467 - val_accuracy: 0.9839\n",
      "Epoch 18/30\n",
      "140/140 [==============================] - 2s 11ms/step - loss: 0.0348 - accuracy: 0.9901 - val_loss: 0.0476 - val_accuracy: 0.9821\n",
      "Epoch 19/30\n",
      "140/140 [==============================] - 2s 11ms/step - loss: 0.0334 - accuracy: 0.9897 - val_loss: 0.0464 - val_accuracy: 0.9821\n",
      "Epoch 20/30\n",
      "140/140 [==============================] - 2s 11ms/step - loss: 0.0322 - accuracy: 0.9904 - val_loss: 0.0460 - val_accuracy: 0.9830\n",
      "Epoch 21/30\n",
      "140/140 [==============================] - 2s 12ms/step - loss: 0.0309 - accuracy: 0.9908 - val_loss: 0.0453 - val_accuracy: 0.9848\n",
      "Epoch 22/30\n",
      "140/140 [==============================] - 1s 11ms/step - loss: 0.0297 - accuracy: 0.9908 - val_loss: 0.0455 - val_accuracy: 0.9848\n",
      "Epoch 23/30\n",
      "140/140 [==============================] - 1s 10ms/step - loss: 0.0285 - accuracy: 0.9917 - val_loss: 0.0451 - val_accuracy: 0.9857\n",
      "Epoch 24/30\n",
      "140/140 [==============================] - 2s 11ms/step - loss: 0.0274 - accuracy: 0.9912 - val_loss: 0.0459 - val_accuracy: 0.9830\n",
      "Epoch 25/30\n",
      "140/140 [==============================] - 1s 11ms/step - loss: 0.0266 - accuracy: 0.9919 - val_loss: 0.0455 - val_accuracy: 0.9883\n",
      "Epoch 26/30\n",
      "140/140 [==============================] - 1s 10ms/step - loss: 0.0253 - accuracy: 0.9924 - val_loss: 0.0462 - val_accuracy: 0.9848\n",
      "Epoch 27/30\n",
      "140/140 [==============================] - 2s 11ms/step - loss: 0.0241 - accuracy: 0.9928 - val_loss: 0.0464 - val_accuracy: 0.9865\n",
      "Epoch 28/30\n",
      "140/140 [==============================] - 2s 12ms/step - loss: 0.0235 - accuracy: 0.9935 - val_loss: 0.0473 - val_accuracy: 0.9848\n",
      "Epoch 29/30\n",
      "140/140 [==============================] - 2s 12ms/step - loss: 0.0229 - accuracy: 0.9937 - val_loss: 0.0487 - val_accuracy: 0.9848\n",
      "Epoch 30/30\n",
      "140/140 [==============================] - 2s 11ms/step - loss: 0.0221 - accuracy: 0.9933 - val_loss: 0.0483 - val_accuracy: 0.9848\n"
     ]
    }
   ],
   "source": [
    "num_epochs = 30\n",
    "history=model.fit(\n",
    "    padded, \n",
    "    training_labels_final, \n",
    "    epochs=num_epochs, \n",
    "    validation_data=(testing_padded, testing_labels_final)\n",
    ")"
   ]
  },
  {
   "cell_type": "code",
   "execution_count": 8,
   "id": "a237bf62",
   "metadata": {},
   "outputs": [
    {
     "data": {
      "image/png": "[encoded data removed]",
      "text/plain": [
       "<Figure size 432x288 with 1 Axes>"
      ]
     },
     "metadata": {
      "needs_background": "light"
     },
     "output_type": "display_data"
    }
   ],
   "source": [
    "# summarize history for accuracy\n",
    "plt.plot(history.history['loss'])\n",
    "plt.plot(history.history['val_loss'])\n",
    "plt.title('model loss')\n",
    "plt.ylabel('loss')\n",
    "plt.xlabel('epoch')\n",
    "plt.legend(['train', 'val'], loc='upper left')\n",
    "plt.show()"
   ]
  },
  {
   "cell_type": "markdown",
   "id": "c525ca04",
   "metadata": {},
   "source": [
    "## 5. Detecting Spam Across New Messages"
   ]
  },
  {
   "cell_type": "code",
   "execution_count": 9,
   "id": "9877fc98",
   "metadata": {},
   "outputs": [
    {
     "name": "stdout",
     "output_type": "stream",
     "text": [
      "['Greg, can you call me back once you get this?', 'Congrats on your new iPhone! Click here to claim your prize...', 'Really like that new photo of you', 'Did you hear the news today? Terrible what has happened...', 'Attend this free COVID webinar today: Book your session now...', 'Are you coming to the party tonight?', 'Your parcel has gone missing', 'Do not forget to bring friends!', 'You have won a million dollars! Fill out your bank details here...', 'Looking forward to seeing you again']\n",
      "Greg, can you call me back once you get this?\n",
      "[0.0242843]\n",
      "\n",
      "\n",
      "Congrats on your new iPhone! Click here to claim your prize...\n",
      "[0.9595318]\n",
      "\n",
      "\n",
      "Really like that new photo of you\n",
      "[0.00937355]\n",
      "\n",
      "\n",
      "Did you hear the news today? Terrible what has happened...\n",
      "[0.01608324]\n",
      "\n",
      "\n",
      "Attend this free COVID webinar today: Book your session now...\n",
      "[0.40513515]\n",
      "\n",
      "\n",
      "Are you coming to the party tonight?\n",
      "[0.00283235]\n",
      "\n",
      "\n",
      "Your parcel has gone missing\n",
      "[0.01094836]\n",
      "\n",
      "\n",
      "Do not forget to bring friends!\n",
      "[0.00035253]\n",
      "\n",
      "\n",
      "You have won a million dollars! Fill out your bank details here...\n",
      "[0.46499836]\n",
      "\n",
      "\n",
      "Looking forward to seeing you again\n",
      "[0.03777245]\n",
      "\n",
      "\n"
     ]
    }
   ],
   "source": [
    "# Use the model to predict whether a message is spam\n",
    "text_messages = ['Greg, can you call me back once you get this?',\n",
    "                'Congrats on your new iPhone! Click here to claim your prize...', \n",
    "                'Really like that new photo of you',\n",
    "                'Did you hear the news today? Terrible what has happened...',\n",
    "                'Attend this free COVID webinar today: Book your session now...',\n",
    "                'Are you coming to the party tonight?',\n",
    "                'Your parcel has gone missing',\n",
    "                'Do not forget to bring friends!',\n",
    "                'You have won a million dollars! Fill out your bank details here...',\n",
    "                'Looking forward to seeing you again']\n",
    "\n",
    "print(text_messages) \n",
    "\n",
    "# Create the sequences\n",
    "padding_type='post'\n",
    "sample_sequences = tokenizer.texts_to_sequences(text_messages)\n",
    "fakes_padded = pad_sequences(sample_sequences, padding=padding_type, maxlen=max_length)           \n",
    "\n",
    "classes = model.predict(fakes_padded)\n",
    "\n",
    "# The closer the class is to 1, the more likely that the message is spam\n",
    "for x in range(len(text_messages)):\n",
    "    print(text_messages[x])\n",
    "    print(classes[x])\n",
    "    print('\\n')"
   ]
  }
 ],
 "metadata": {
  "kernelspec": {
   "display_name": "Python 3 (ipykernel)",
   "language": "python",
   "name": "python3"
  },
  "language_info": {
   "codemirror_mode": {
    "name": "ipython",
    "version": 3
   },
   "file_extension": ".py",
   "mimetype": "text/x-python",
   "name": "python",
   "nbconvert_exporter": "python",
   "pygments_lexer": "ipython3",
   "version": "3.9.7"
  },
  "varInspector": {
   "cols": {
    "lenName": 16,
    "lenType": 16,
    "lenVar": 40
   },
   "kernels_config": {
    "python": {
     "delete_cmd_postfix": "",
     "delete_cmd_prefix": "del ",
     "library": "var_list.py",
     "varRefreshCmd": "print(var_dic_list())"
    },
    "r": {
     "delete_cmd_postfix": ") ",
     "delete_cmd_prefix": "rm(",
     "library": "var_list.r",
     "varRefreshCmd": "cat(var_dic_list()) "
    }
   },
   "types_to_exclude": [
    "module",
    "function",
    "builtin_function_or_method",
    "instance",
    "_Feature"
   ],
   "window_display": false
  }
 },
 "nbformat": 4,
 "nbformat_minor": 5
}
